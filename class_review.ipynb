{
 "cells": [
  {
   "cell_type": "code",
   "execution_count": null,
   "id": "1547478a",
   "metadata": {},
   "outputs": [],
   "source": [
    "dna = \"ATGTAACAAAGCAGG\"\n",
    "dna[0:3]\n",
    "len(dna)"
   ]
  },
  {
   "cell_type": "code",
   "execution_count": null,
   "id": "6c462046",
   "metadata": {},
   "outputs": [],
   "source": [
    "from Bio.Data import CodonTable\n",
    "mito_table = CondonTable.unambiguous_dna_by_name[\"Vertebrate Mitochondrial\"]\n",
    "for myI in range (0, len(dna), 3):\n",
    "    codon = dna[myI:myI +3]\n",
    "    if codon in mito_table.stop_codons:\n",
    "        break\n",
    "    print (codon)\n",
    "    print (mito_table.forward_table[codon])"
   ]
  },
  {
   "cell_type": "code",
   "execution_count": null,
   "id": "132be3e2",
   "metadata": {},
   "outputs": [],
   "source": [
    "codon = \"TAA\"\n",
    "if codon in mito_table.stop_codons:\n",
    "    print(codon)"
   ]
  },
  {
   "cell_type": "code",
   "execution_count": null,
   "id": "152a63ee",
   "metadata": {},
   "outputs": [],
   "source": [
    "from Bio.Seq import Seq\n",
    "from Bio.SeqUtils import gc_fraction\n",
    "gc_fraction(\"ATGC\")"
   ]
  },
  {
   "cell_type": "code",
   "execution_count": null,
   "id": "eed0f746",
   "metadata": {},
   "outputs": [],
   "source": [
    "import pandas as pd\n",
    "cytb_seqs = get_sequences_from_file(\"penguins_cytb.fasta\") \n",
    "penguins_df = pd.read_csv(\"penguins_mass.csv\") # Includes only data for body mass \n",
    "species_list = list(penguins_df.species)"
   ]
  },
  {
   "cell_type": "code",
   "execution_count": null,
   "id": "a1b775cd",
   "metadata": {},
   "outputs": [],
   "source": []
  }
 ],
 "metadata": {
  "kernelspec": {
   "display_name": "Python3 (BCB/EEOB 546)",
   "language": "python",
   "name": "notebook"
  },
  "language_info": {
   "codemirror_mode": {
    "name": "ipython",
    "version": 3
   },
   "file_extension": ".py",
   "mimetype": "text/x-python",
   "name": "python",
   "nbconvert_exporter": "python",
   "pygments_lexer": "ipython3",
   "version": "3.12.2"
  }
 },
 "nbformat": 4,
 "nbformat_minor": 5
}
